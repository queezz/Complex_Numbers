{
 "cells": [
  {
   "cell_type": "code",
   "execution_count": 1,
   "metadata": {},
   "outputs": [],
   "source": [
    "%matplotlib widget\n",
    "import ipywidgets as widgets\n",
    "import matplotlib.pyplot as plt\n",
    "import numpy as np\n",
    "import math"
   ]
  },
  {
   "cell_type": "code",
   "execution_count": 2,
   "metadata": {},
   "outputs": [
    {
     "data": {
      "application/vnd.jupyter.widget-view+json": {
       "model_id": "b73a90931bd141bb8d20e1af423d07fa",
       "version_major": 2,
       "version_minor": 0
      },
      "text/plain": [
       "Canvas(toolbar=Toolbar(toolitems=[('Home', 'Reset original view', 'home', 'home'), ('Back', 'Back to previous …"
      ]
     },
     "metadata": {},
     "output_type": "display_data"
    },
    {
     "data": {
      "application/vnd.jupyter.widget-view+json": {
       "model_id": "071f4d3aec8f4a97b4990721108c5d93",
       "version_major": 2,
       "version_minor": 0
      },
      "text/plain": [
       "interactive(children=(FloatSlider(value=1.0, description='phi', max=6.293185307179586), Output()), _dom_classe…"
      ]
     },
     "metadata": {},
     "output_type": "display_data"
    }
   ],
   "source": [
    "phi = 1\n",
    "fig = plt.figure()\n",
    "ax = plt.gca()\n",
    "# Centered axes with arrows\n",
    "ax.spines[\"left\"].set_position((\"data\", 0))\n",
    "ax.spines[\"bottom\"].set_position((\"data\", 0))\n",
    "# Hide the top and right spines.\n",
    "ax.spines[\"top\"].set_visible(False)\n",
    "ax.spines[\"right\"].set_visible(False)\n",
    "ax.plot(1, 0, \">k\", transform=ax.get_yaxis_transform(), clip_on=False)\n",
    "ax.plot(0, 1, \"^k\", transform=ax.get_xaxis_transform(), clip_on=False)\n",
    "\n",
    "# Unit Circle, parametric equation\n",
    "t = np.linspace(-np.pi / 12, np.pi * 2, 100)\n",
    "x = np.cos(t)\n",
    "y = np.sin(t)\n",
    "# plt.plot(x, y, \"C2-\", lw=1)\n",
    "\n",
    "\n",
    "def make_spiral(phi):\n",
    "    plt.plot(x, y, \"C2-\", lw=1)\n",
    "    # Calculate complex number on a unit circle from supplied argument\n",
    "    z = np.exp(1j * phi)\n",
    "    # Plot z and its vector\n",
    "    ax.plot(z.real, z.imag, \"x\", ms=14, mew=3, c=\"C0\",label=f'$e^{{i\\cdot{phi/np.pi:.2f}\\pi}}$')\n",
    "    ax.quiver(\n",
    "        np.real(z),\n",
    "        np.imag(z),\n",
    "        scale_units=\"xy\",\n",
    "        scale=1,\n",
    "        width=0.006,\n",
    "        color=\"k\",\n",
    "        zorder=4,\n",
    "    )\n",
    "\n",
    "    # Define series, up to some number (20)\n",
    "    s = np.array(\n",
    "        [0 + 0j]\n",
    "        + [1 + 0j, 1j * phi]\n",
    "        + [(1j * phi) ** i / math.factorial(i) for i in range(2, 30)]\n",
    "    )\n",
    "    # Plot the spiral in a cicle\n",
    "    [\n",
    "        plt.quiver(\n",
    "            sum(s[:i]).real,  # initial point, real coordinate\n",
    "            sum(s[:i]).imag,  # initial point, imaginary coordinate\n",
    "            s[i].real,  # end point, real coordinate\n",
    "            s[i].imag,  # end point, imaginary coordinate\n",
    "            scale_units=\"xy\",\n",
    "            scale=1,\n",
    "            width=0.01,\n",
    "            color=\"C3\",\n",
    "            zorder=5,\n",
    "        )\n",
    "        for i in range(1, len(s))\n",
    "    ]\n",
    "    lim = np.abs(s).max() + 0.1\n",
    "    ax.set_xlim([-lim,lim])\n",
    "    ax.set_ylim([-lim,lim])\n",
    "    ax.legend(loc=2,bbox_to_anchor=[1,1])\n",
    "\n",
    "ax.set_aspect(\"equal\")\n",
    "plt.grid(zorder=0)\n",
    "\n",
    "\n",
    "@widgets.interact(phi=(0, 2 * np.pi + 0.01, 0.1))\n",
    "def update(phi=1):\n",
    "    \"\"\"Remove old lines from plot and plot new one\"\"\"\n",
    "    [artist.remove() for artist in plt.gca().lines + plt.gca().collections]\n",
    "    make_spiral(phi)"
   ]
  }
 ],
 "metadata": {
  "kernelspec": {
   "display_name": "Python 3",
   "language": "python",
   "name": "python3"
  },
  "language_info": {
   "codemirror_mode": {
    "name": "ipython",
    "version": 3
   },
   "file_extension": ".py",
   "mimetype": "text/x-python",
   "name": "python",
   "nbconvert_exporter": "python",
   "pygments_lexer": "ipython3",
   "version": "3.7.2"
  }
 },
 "nbformat": 4,
 "nbformat_minor": 4
}
