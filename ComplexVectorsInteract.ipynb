{
 "cells": [
  {
   "cell_type": "code",
   "execution_count": 1,
   "metadata": {},
   "outputs": [
    {
     "name": "stdout",
     "output_type": "stream",
     "text": [
      "Populating the interactive namespace from numpy and matplotlib\n"
     ]
    }
   ],
   "source": [
    "%pylab inline"
   ]
  },
  {
   "cell_type": "code",
   "execution_count": 43,
   "metadata": {},
   "outputs": [],
   "source": [
    "from ipywidgets import interact, widgets"
   ]
  },
  {
   "cell_type": "code",
   "execution_count": 49,
   "metadata": {},
   "outputs": [
    {
     "data": {
      "application/vnd.jupyter.widget-view+json": {
       "model_id": "498cab8c9a44434984214c9179983033",
       "version_major": 2,
       "version_minor": 0
      },
      "text/plain": [
       "interactive(children=(FloatSlider(value=0.7853981633974483, description='phi', max=6.283185307179586), Output(…"
      ]
     },
     "metadata": {},
     "output_type": "display_data"
    }
   ],
   "source": [
    "@interact\n",
    "def plot_spiral(phi=widgets.FloatSlider(min=0, max=2 * np.pi, value=np.pi / 4)):\n",
    "    fig = gcf()\n",
    "    fig.set_size_inches(10, 10)\n",
    "    ax = gca()\n",
    "\n",
    "    # Centered axes with arrows\n",
    "    ax.spines[\"left\"].set_position((\"data\", 0))\n",
    "    ax.spines[\"bottom\"].set_position((\"data\", 0))\n",
    "    # Hide the top and right spines.\n",
    "    ax.spines[\"top\"].set_visible(False)\n",
    "    ax.spines[\"right\"].set_visible(False)\n",
    "    ax.plot(1, 0, \">k\", transform=ax.get_yaxis_transform(), clip_on=False)\n",
    "    ax.plot(0, 1, \"^k\", transform=ax.get_xaxis_transform(), clip_on=False)\n",
    "\n",
    "    # Unit Circle, parametric equation\n",
    "    t = np.linspace(-np.pi / 12, np.pi * 2)\n",
    "    x = np.cos(t)\n",
    "    y = np.sin(t)\n",
    "    plot(x, y, \"C2-\", lw=1)\n",
    "\n",
    "    # Calculate complex number on a unit circle from supplied argument\n",
    "    z = np.exp(1j * phi)\n",
    "    # Plot z and its vector\n",
    "    ax.plot(z.real, a.imag, \"x\", ms=14, mew=3)\n",
    "    ax.quiver(np.real(z), np.imag(z), scale_units=\"xy\", scale=1, width=0.006, color=\"k\")\n",
    "\n",
    "    # Define series, up to some number (20)\n",
    "    s = [0] + [1, 1j * phi] + [(1j * phi) ** i / math.factorial(i) for i in range(2, 20)]\n",
    "    # Plot the spiral in a cicle\n",
    "    [\n",
    "        quiver(\n",
    "            sum(s[:i]).real, # initial point, real coordinate\n",
    "            sum(s[:i]).imag, # initial point, imaginary coordinate\n",
    "            s[i].real,       # end point, real coordinate\n",
    "            s[i].imag,       # end point, imaginary coordinate\n",
    "            scale_units=\"xy\",\n",
    "            scale=1,\n",
    "            width=0.005,\n",
    "            color=\"C3\",\n",
    "        )\n",
    "        for i in range(1, len(s))\n",
    "    ]\n",
    "\n",
    "    ax.set_aspect(\"equal\")\n",
    "    grid()"
   ]
  }
 ],
 "metadata": {
  "kernelspec": {
   "display_name": "Python 3",
   "language": "python",
   "name": "python3"
  },
  "language_info": {
   "codemirror_mode": {
    "name": "ipython",
    "version": 3
   },
   "file_extension": ".py",
   "mimetype": "text/x-python",
   "name": "python",
   "nbconvert_exporter": "python",
   "pygments_lexer": "ipython3",
   "version": "3.7.2"
  }
 },
 "nbformat": 4,
 "nbformat_minor": 4
}
